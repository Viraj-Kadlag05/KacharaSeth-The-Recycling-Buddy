{
 "cells": [
  {
   "cell_type": "code",
   "execution_count": 27,
   "metadata": {},
   "outputs": [],
   "source": [
    "from tensorflow.keras.models import load_model\n",
    "from keras.preprocessing import image\n",
    "import numpy as np\n",
    "import matplotlib.pyplot as plt\n",
    "import mysql.connector\n",
    "import requests\n",
    "import json\n",
    "import cv2"
   ]
  },
  {
   "cell_type": "code",
   "execution_count": 29,
   "metadata": {},
   "outputs": [],
   "source": [
    "mydb = mysql.connector.connect(host=\"localhost\", user=\"root\", password=\"\", database=\"garbage\")\n",
    "cur = mydb.cursor()"
   ]
  },
  {
   "cell_type": "code",
   "execution_count": 30,
   "metadata": {},
   "outputs": [],
   "source": [
    "model = load_model('Models/model.h5')\n",
    "labels = {0:'cardboard', 1:'glass', 2:'metal', 3:'paper', 4:'plastic', 5:'trash'}"
   ]
  },
  {
   "cell_type": "code",
   "execution_count": 31,
   "metadata": {},
   "outputs": [],
   "source": [
    "cap = cv2.VideoCapture(0)\n",
    "for i in range(20):\n",
    "    ret, frame = cap.read()\n",
    "    if ret == False:\n",
    "        break\n",
    "    cv2.imwrite('Frames/'+str(i)+'.jpg',frame)\n",
    "cap.release()\n",
    "cv2.destroyAllWindows()"
   ]
  },
  {
   "cell_type": "code",
   "execution_count": 36,
   "metadata": {},
   "outputs": [],
   "source": [
    "test_img = 'Test_Images/plastic62.jpg'\n",
    "img = image.load_img(test_img, target_size = (300,300))\n",
    "img = image.img_to_array(img, dtype=np.uint8)\n",
    "img = np.array(img)/255.0\n",
    "prediction = model.predict(img[np.newaxis, ...])"
   ]
  },
  {
   "cell_type": "code",
   "execution_count": 37,
   "metadata": {},
   "outputs": [
    {
     "name": "stdout",
     "output_type": "stream",
     "text": [
      "Probability: 0.98131126\n",
      "Classified: plastic \n",
      "\n"
     ]
    }
   ],
   "source": [
    "print(\"Probability:\",np.max(prediction[0], axis=-1))\n",
    "predicted_class = labels[np.argmax(prediction[0], axis=-1)]\n",
    "print(\"Classified:\",predicted_class,'\\n')"
   ]
  },
  {
   "cell_type": "code",
   "execution_count": 38,
   "metadata": {},
   "outputs": [
    {
     "name": "stdout",
     "output_type": "stream",
     "text": [
      "19.095199584960938 74.74960327148438 Ahmadnagar\n"
     ]
    }
   ],
   "source": [
    "import requests\n",
    "import json\n",
    "\n",
    "send_url = \"http://api.ipstack.com/152.57.8.231?access_key=f65bd90bacc856ed8bfd891376f75e12\"\n",
    "geo_req = requests.get(send_url)\n",
    "geo_json = json.loads(geo_req.text)\n",
    "latitude = geo_json['latitude']\n",
    "longitude = geo_json['longitude']\n",
    "city = geo_json['city']\n",
    "\n",
    "print(latitude, longitude, city)"
   ]
  },
  {
   "cell_type": "code",
   "execution_count": 39,
   "metadata": {},
   "outputs": [],
   "source": [
    "s = \"INSERT INTO kachra (type, lat, longi, city) VALUES (%s, %s, %s, %s)\"\n",
    "data = (predicted_class, latitude, longitude, city,)\n",
    "cur.execute(s, data)\n",
    "mydb.commit()"
   ]
  },
  {
   "cell_type": "code",
   "execution_count": null,
   "metadata": {},
   "outputs": [],
   "source": []
  }
 ],
 "metadata": {
  "kernelspec": {
   "display_name": "Python 3",
   "language": "python",
   "name": "python3"
  },
  "language_info": {
   "codemirror_mode": {
    "name": "ipython",
    "version": 3
   },
   "file_extension": ".py",
   "mimetype": "text/x-python",
   "name": "python",
   "nbconvert_exporter": "python",
   "pygments_lexer": "ipython3",
   "version": "3.7.6"
  }
 },
 "nbformat": 4,
 "nbformat_minor": 4
}
